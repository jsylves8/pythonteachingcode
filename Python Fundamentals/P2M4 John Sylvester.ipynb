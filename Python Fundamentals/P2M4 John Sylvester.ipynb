{
 "cells": [
  {
   "cell_type": "code",
   "execution_count": 2,
   "metadata": {},
   "outputs": [
    {
     "name": "stdout",
     "output_type": "stream",
     "text": [
      "city,country,month ave: highest high,month ave: lowest low\n",
      "Beijing,China,30.9,-8.4\n",
      "Cairo,Egypt,34.7,1.2\n",
      "London,UK,23.5,2.1\n",
      "Nairobi,Kenya,26.3,10.5\n",
      "New York City,USA,28.9,-2.8\n",
      "Sydney,Australia,26.5,8.7\n",
      "Tokyo,Japan,30.8,0.9\n",
      "\n",
      "\n",
      "city,country,month ave: highest high,month ave: lowest low\n",
      "Beijing,China,30.9,-8.4\n",
      "Cairo,Egypt,34.7,1.2\n",
      "London,UK,23.5,2.1\n",
      "Nairobi,Kenya,26.3,10.5\n",
      "New York City,USA,28.9,-2.8\n",
      "Sydney,Australia,26.5,8.7\n",
      "Tokyo,Japan,30.8,0.9\n",
      "Rio de Janeiro,Brazil,30.0,18.0\n",
      "\n",
      "['city', 'country', 'month ave: highest high', 'month ave: lowest low\\n']\n"
     ]
    },
    {
     "name": "stderr",
     "output_type": "stream",
     "text": [
      "  % Total    % Received % Xferd  Average Speed   Time    Time     Time  Current\n",
      "                                 Dload  Upload   Total   Spent    Left  Speed\n",
      "\n",
      "  0     0    0     0    0     0      0      0 --:--:-- --:--:-- --:--:--     0\n",
      "  0     0    0     0    0     0      0      0 --:--:-- --:--:-- --:--:--     0\n",
      "100   222  100   222    0     0    616      0 --:--:-- --:--:-- --:--:--   616\n"
     ]
    },
    {
     "data": {
      "text/plain": [
       "['Beijing', 'China', '30.9', '-8.4\\n']"
      ]
     },
     "execution_count": 2,
     "metadata": {},
     "output_type": "execute_result"
    }
   ],
   "source": [
    "\n",
    "    \n",
    "!curl https://raw.githubusercontent.com/MicrosoftLearning/intropython/master/world_temp_mean.csv\n",
    "\n",
    "mean_temp = open(\"mean_temp.txt\", \"r\")\n",
    "print(\"\\n\\n\" + mean_temp.read())\n",
    "\n",
    "mean_temp = open(\"mean_temp.txt\", \"a+\")\n",
    "\n",
    "mean_temp.write(\"Rio de Janeiro,Brazil,30.0,18.0\\n\")\n",
    "\n",
    "mean_temp.seek(0)\n",
    "\n",
    "headings = mean_temp.readline().split(\",\")\n",
    "\n",
    "print(headings)\n",
    "\n",
    "city_temp = mean_temp.readline().split(\",\")\n",
    "\n",
    "city_temp"
   ]
  },
  {
   "cell_type": "code",
   "execution_count": null,
   "metadata": {},
   "outputs": [],
   "source": []
  }
 ],
 "metadata": {
  "kernelspec": {
   "display_name": "Python 3",
   "language": "python",
   "name": "python3"
  },
  "language_info": {
   "codemirror_mode": {
    "name": "ipython",
    "version": 3
   },
   "file_extension": ".py",
   "mimetype": "text/x-python",
   "name": "python",
   "nbconvert_exporter": "python",
   "pygments_lexer": "ipython3",
   "version": "3.8.5"
  }
 },
 "nbformat": 4,
 "nbformat_minor": 4
}
