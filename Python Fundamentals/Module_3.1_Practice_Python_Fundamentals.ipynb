{
 "cells": [
  {
   "cell_type": "markdown",
   "metadata": {},
   "source": [
    "# Module 3 Practice - Python Fundamentals\n",
    "## power iteration of sequences\n",
    "\n",
    "<font size=\"5\" color=\"#00A0B2\"  face=\"verdana\"> <B>Student will be able to</B></font>  \n",
    "- Iterate through Lists using **`for`** and **`in`**\n",
    "- Use **`for` *`count`* `in range()`** in looping operations  \n",
    "- Use list methods **`.extend()`, `+, .reverse(), .sort()`**  \n",
    "- convert between lists and strings using  **`.split()`** and **`.join()`**\n",
    "- cast strings to lists **/** direct multiple print outputs to a single line.  ** `print(\"hi\", end='')`**"
   ]
  },
  {
   "cell_type": "markdown",
   "metadata": {},
   "source": [
    "# &nbsp;\n",
    "<font size=\"6\" color=\"#B24C00\"  face=\"verdana\"> <B>Task 1</B></font>\n",
    "##  list iteration: `for in`\n",
    "### `for item in list:`"
   ]
  },
  {
   "cell_type": "code",
   "execution_count": null,
   "metadata": {},
   "outputs": [],
   "source": [
    "# [ ] print out the \"physical states of matter\" (matter_states) in 4 sentences using list iteration\n",
    "# each sentence should be of the format: \"Solid - is state of matter #1\" \n",
    "matter_states = ['solid', 'liquid', 'gas', 'plasma']\n",
    "\n"
   ]
  },
  {
   "cell_type": "code",
   "execution_count": null,
   "metadata": {},
   "outputs": [],
   "source": [
    "# [ ] iterate the list (birds) to see any bird names start with \"c\" and remove that item from the list\n",
    "# print the birds list before and after removals\n",
    "birds = [\"turkey\", \"hawk\", \"chicken\", \"dove\", \"crow\"]\n",
    "\n"
   ]
  },
  {
   "cell_type": "code",
   "execution_count": null,
   "metadata": {},
   "outputs": [],
   "source": [
    "# the team makes 1pt, 2pt or 3pt baskets\n",
    "# [ ] print the occurace of each type of basket(1pt, 2pt, 3pt) & total points using the list baskets\n",
    "baskets = [2,2,2,1,2,1,3,3,1,2,2,2,2,1,3]\n",
    "\n"
   ]
  },
  {
   "cell_type": "markdown",
   "metadata": {},
   "source": [
    "# &nbsp;\n",
    "<font size=\"6\" color=\"#B24C00\"  face=\"verdana\"> <B>Task 2</B></font>\n",
    "##  iteration with `range(start)` & `range(start,stop)`\n"
   ]
  },
  {
   "cell_type": "code",
   "execution_count": 13,
   "metadata": {},
   "outputs": [
    {
     "name": "stdout",
     "output_type": "stream",
     "text": [
      "1\n",
      "2\n",
      "3\n",
      "4\n"
     ]
    }
   ],
   "source": [
    "# [ ] using range() print \"hello\" 4 times\n",
    "\n",
    "word = [1,2,3,4,5,6,7,8,9]\n",
    "\n",
    "for name in range(0,4):\n",
    "    print(word[name])\n"
   ]
  },
  {
   "cell_type": "code",
   "execution_count": 23,
   "metadata": {},
   "outputs": [
    {
     "name": "stdout",
     "output_type": "stream",
     "text": [
      "['Tuesday', 'Wednesday', 'February', 'November']\n",
      "['Annual', 'Calendar', 'Solstice']\n",
      "range(0, 6)\n"
     ]
    }
   ],
   "source": [
    "# [ ] find spell_list length\n",
    "# [ ] use range() to iterate each half of spell_list  \n",
    "# [ ] label & print the first and second halves\n",
    "spell_list = [\"Tuesday\", \"Wednesday\", \"February\", \"November\", \"Annual\", \"Calendar\", \"Solstice\"]\n",
    "\n",
    "first_half = []\n",
    "second_half = []\n",
    "\n",
    "split_amount = range(0,6)\n",
    "\n",
    "for names in range(0,int(len(spell_list))):\n",
    "    if names <= int((len(spell_list))/2):\n",
    "        first_half.append(spell_list[names])\n",
    "\n",
    "    elif names > int((len(spell_list))/2):\n",
    "        second_half.append(spell_list[names])\n",
    "\n",
    "print(first_half)\n",
    "\n",
    "print(second_half)\n",
    "print(split_amount)"
   ]
  },
  {
   "cell_type": "code",
   "execution_count": 25,
   "metadata": {},
   "outputs": [
    {
     "name": "stdout",
     "output_type": "stream",
     "text": [
      "[20, 21, 22, 23, 24, 25, 26, 27, 28, 29]\n"
     ]
    }
   ],
   "source": [
    "# [ ] build a list of numbers from 20 to 29: twenties \n",
    "# append each number to twenties list using range(start,stop) iteration\n",
    "# [ ] print twenties\n",
    "twenties = []\n",
    "\n",
    "for num in range(20,30):\n",
    "    twenties.append(num)\n",
    "print(twenties)\n",
    "\n"
   ]
  },
  {
   "cell_type": "code",
   "execution_count": 27,
   "metadata": {},
   "outputs": [
    {
     "name": "stdout",
     "output_type": "stream",
     "text": [
      "245\n"
     ]
    }
   ],
   "source": [
    "# [ ] iterate through the numbers populated in the list twenties and add each number to a variable: total\n",
    "# [ ] print total\n",
    "total = 0\n",
    "\n",
    "for num in twenties:\n",
    "    total += num\n",
    "print(total)\n"
   ]
  },
  {
   "cell_type": "code",
   "execution_count": 28,
   "metadata": {},
   "outputs": [
    {
     "name": "stdout",
     "output_type": "stream",
     "text": [
      "245\n"
     ]
    }
   ],
   "source": [
    "# check your answer above using range(start,stop)\n",
    "# [ ] iterate each number from 20 to 29 using range()\n",
    "# [ ] add each number to a variable (total) to calculate the sum\n",
    "# should match earlier task \n",
    "total = 0\n",
    "\n",
    "for num in range(20,30):\n",
    "    total += num\n",
    "print(total)"
   ]
  },
  {
   "cell_type": "markdown",
   "metadata": {},
   "source": [
    "# &nbsp;\n",
    "<font size=\"6\" color=\"#B24C00\"  face=\"verdana\"> <B>Task 3</B></font>\n",
    "##  iteration with `range(start:stop:skip)`\n"
   ]
  },
  {
   "cell_type": "code",
   "execution_count": 29,
   "metadata": {},
   "outputs": [
    {
     "name": "stdout",
     "output_type": "stream",
     "text": [
      "[1, 3, 5, 7, 9, 11, 13, 15, 17, 19, 21, 23, 25]\n"
     ]
    }
   ],
   "source": [
    "# [ ] create a list of odd numbers (odd_nums) from 1 to 25 using range(start,stop,skip)\n",
    "# [ ] print odd_nums\n",
    "# hint: odd numbers are 2 digits apart\n",
    "\n",
    "odd_nums = []\n",
    "\n",
    "for num in range(1,26,2):\n",
    "    odd_nums.append(num)\n",
    "print(odd_nums)"
   ]
  },
  {
   "cell_type": "code",
   "execution_count": 35,
   "metadata": {},
   "outputs": [
    {
     "name": "stdout",
     "output_type": "stream",
     "text": [
      "[25, 23, 21, 19, 17, 15, 13, 11, 9, 7, 5, 3, 1, 25, 21, 17, 13, 9, 5, 1, 25, 23, 21, 19, 17, 15, 13, 11, 9, 7, 5, 3, 1, 1, 3, 5, 7, 9, 11, 13, 15, 17, 19, 21, 23, 25, 3, 7, 11, 15, 19, 23, 1, 3, 5, 7, 9, 11, 13, 15, 17, 19, 21, 23, 25]\n"
     ]
    }
   ],
   "source": [
    "# [ ] create a Decending list of odd numbers (odd_nums) from 25 to 1 using range(start,stop,skip)\n",
    "# [ ] print odd_nums,  output should resemble [25, 23, ...]\n",
    "\n",
    "for num in range(1,26,2):\n",
    "    odd_nums.append(num)\n",
    "odd_nums.reverse()\n",
    "print(odd_nums)\n"
   ]
  },
  {
   "cell_type": "code",
   "execution_count": 40,
   "metadata": {},
   "outputs": [
    {
     "name": "stdout",
     "output_type": "stream",
     "text": [
      "2 - Helium\n",
      "4 - Beryllium\n",
      "6 - Carbon\n",
      "8 - Oxygen\n",
      "10 - Neon\n",
      "12 - Magnesium\n",
      "14 - Silicon\n",
      "16 - Sulfur\n",
      "18 - Argon\n",
      "20 - Calcium\n"
     ]
    }
   ],
   "source": [
    "# the list, elements, contains the names of the first 20 elements in atomic number order\n",
    "# [ ] print the even number elements \"2 - Helium, 4 - Beryllium,..\" in the list with the atomic number\n",
    "elements = ['Hydrogen', 'Helium', 'Lithium', 'Beryllium', 'Boron', 'Carbon', 'Nitrogen', 'Oxygen', 'Fluorine', \\\n",
    " 'Neon', 'Sodium', 'Magnesium', 'Aluminum', 'Silicon', 'Phosphorus', 'Sulfur', 'Chlorine', 'Argon', \\\n",
    " 'Potassium', 'Calcium']\n",
    "\n",
    "for places in range(1,21,2):\n",
    "    print(f\"{places+1} - {elements[places]}\")\n",
    "\n"
   ]
  },
  {
   "cell_type": "code",
   "execution_count": 43,
   "metadata": {},
   "outputs": [
    {
     "name": "stdout",
     "output_type": "stream",
     "text": [
      "1 - Hydrogen\n",
      "3 - Lithium\n",
      "5 - Boron\n",
      "7 - Nitrogen\n",
      "9 - Fluorine\n",
      "11 - Sodium\n",
      "13 - Aluminum\n",
      "15 - Phosphorus\n",
      "17 - Chlorine\n",
      "19 - Potassium\n"
     ]
    },
    {
     "ename": "IndexError",
     "evalue": "list index out of range",
     "output_type": "error",
     "traceback": [
      "\u001b[1;31m---------------------------------------------------------------------------\u001b[0m",
      "\u001b[1;31mIndexError\u001b[0m                                Traceback (most recent call last)",
      "\u001b[1;32mc:\\Users\\John\\Documents\\GitHub\\pythonteachingcode\\Python Fundamentals\\Module_3.1_Practice_Python_Fundamentals.ipynb Cell 16'\u001b[0m in \u001b[0;36m<module>\u001b[1;34m\u001b[0m\n\u001b[0;32m      <a href='vscode-notebook-cell:/c%3A/Users/John/Documents/GitHub/pythonteachingcode/Python%20Fundamentals/Module_3.1_Practice_Python_Fundamentals.ipynb#ch0000015?line=2'>3</a>\u001b[0m elements_60 \u001b[39m=\u001b[39m [\u001b[39m'\u001b[39m\u001b[39mHydrogen\u001b[39m\u001b[39m'\u001b[39m, \u001b[39m'\u001b[39m\u001b[39mHelium\u001b[39m\u001b[39m'\u001b[39m, \u001b[39m'\u001b[39m\u001b[39mLithium\u001b[39m\u001b[39m'\u001b[39m, \u001b[39m'\u001b[39m\u001b[39mBeryllium\u001b[39m\u001b[39m'\u001b[39m, \u001b[39m'\u001b[39m\u001b[39mBoron\u001b[39m\u001b[39m'\u001b[39m, \u001b[39m'\u001b[39m\u001b[39mCarbon\u001b[39m\u001b[39m'\u001b[39m, \u001b[39m'\u001b[39m\u001b[39mNitrogen\u001b[39m\u001b[39m'\u001b[39m, \\\n\u001b[0;32m      <a href='vscode-notebook-cell:/c%3A/Users/John/Documents/GitHub/pythonteachingcode/Python%20Fundamentals/Module_3.1_Practice_Python_Fundamentals.ipynb#ch0000015?line=3'>4</a>\u001b[0m  \u001b[39m'\u001b[39m\u001b[39mOxygen\u001b[39m\u001b[39m'\u001b[39m, \u001b[39m'\u001b[39m\u001b[39mFluorine\u001b[39m\u001b[39m'\u001b[39m, \u001b[39m'\u001b[39m\u001b[39mNeon\u001b[39m\u001b[39m'\u001b[39m, \u001b[39m'\u001b[39m\u001b[39mSodium\u001b[39m\u001b[39m'\u001b[39m, \u001b[39m'\u001b[39m\u001b[39mMagnesium\u001b[39m\u001b[39m'\u001b[39m, \u001b[39m'\u001b[39m\u001b[39mAluminum\u001b[39m\u001b[39m'\u001b[39m, \u001b[39m'\u001b[39m\u001b[39mSilicon\u001b[39m\u001b[39m'\u001b[39m, \\\n\u001b[0;32m      <a href='vscode-notebook-cell:/c%3A/Users/John/Documents/GitHub/pythonteachingcode/Python%20Fundamentals/Module_3.1_Practice_Python_Fundamentals.ipynb#ch0000015?line=4'>5</a>\u001b[0m  \u001b[39m'\u001b[39m\u001b[39mPhosphorus\u001b[39m\u001b[39m'\u001b[39m, \u001b[39m'\u001b[39m\u001b[39mSulfur\u001b[39m\u001b[39m'\u001b[39m, \u001b[39m'\u001b[39m\u001b[39mChlorine\u001b[39m\u001b[39m'\u001b[39m, \u001b[39m'\u001b[39m\u001b[39mArgon\u001b[39m\u001b[39m'\u001b[39m, \u001b[39m'\u001b[39m\u001b[39mPotassium\u001b[39m\u001b[39m'\u001b[39m, \u001b[39m'\u001b[39m\u001b[39mCalcium\u001b[39m\u001b[39m'\u001b[39m, \u001b[39m'\u001b[39m\u001b[39mHydrogen\u001b[39m\u001b[39m'\u001b[39m, \\\n\u001b[1;32m   (...)\u001b[0m\n\u001b[0;32m      <a href='vscode-notebook-cell:/c%3A/Users/John/Documents/GitHub/pythonteachingcode/Python%20Fundamentals/Module_3.1_Practice_Python_Fundamentals.ipynb#ch0000015?line=8'>9</a>\u001b[0m  \u001b[39m'\u001b[39m\u001b[39mIron\u001b[39m\u001b[39m'\u001b[39m, \u001b[39m'\u001b[39m\u001b[39mCobalt\u001b[39m\u001b[39m'\u001b[39m, \u001b[39m'\u001b[39m\u001b[39mNickel\u001b[39m\u001b[39m'\u001b[39m, \u001b[39m'\u001b[39m\u001b[39mCopper\u001b[39m\u001b[39m'\u001b[39m, \u001b[39m'\u001b[39m\u001b[39mZinc\u001b[39m\u001b[39m'\u001b[39m, \u001b[39m'\u001b[39m\u001b[39mGallium\u001b[39m\u001b[39m'\u001b[39m, \u001b[39m'\u001b[39m\u001b[39mGermanium\u001b[39m\u001b[39m'\u001b[39m, \u001b[39m'\u001b[39m\u001b[39mArsenic\u001b[39m\u001b[39m'\u001b[39m, \u001b[39m'\u001b[39m\u001b[39mSelenium\u001b[39m\u001b[39m'\u001b[39m, \\\n\u001b[0;32m     <a href='vscode-notebook-cell:/c%3A/Users/John/Documents/GitHub/pythonteachingcode/Python%20Fundamentals/Module_3.1_Practice_Python_Fundamentals.ipynb#ch0000015?line=9'>10</a>\u001b[0m  \u001b[39m'\u001b[39m\u001b[39mBromine\u001b[39m\u001b[39m'\u001b[39m, \u001b[39m'\u001b[39m\u001b[39mKrypton\u001b[39m\u001b[39m'\u001b[39m, \u001b[39m'\u001b[39m\u001b[39mRubidium\u001b[39m\u001b[39m'\u001b[39m, \u001b[39m'\u001b[39m\u001b[39mStrontium\u001b[39m\u001b[39m'\u001b[39m, \u001b[39m'\u001b[39m\u001b[39mYttrium\u001b[39m\u001b[39m'\u001b[39m, \u001b[39m'\u001b[39m\u001b[39mZirconium\u001b[39m\u001b[39m'\u001b[39m]\n\u001b[0;32m     <a href='vscode-notebook-cell:/c%3A/Users/John/Documents/GitHub/pythonteachingcode/Python%20Fundamentals/Module_3.1_Practice_Python_Fundamentals.ipynb#ch0000015?line=11'>12</a>\u001b[0m \u001b[39mfor\u001b[39;00m places \u001b[39min\u001b[39;00m \u001b[39mrange\u001b[39m(\u001b[39m1\u001b[39m,\u001b[39m25\u001b[39m,\u001b[39m2\u001b[39m):\n\u001b[1;32m---> <a href='vscode-notebook-cell:/c%3A/Users/John/Documents/GitHub/pythonteachingcode/Python%20Fundamentals/Module_3.1_Practice_Python_Fundamentals.ipynb#ch0000015?line=12'>13</a>\u001b[0m     \u001b[39mprint\u001b[39m(\u001b[39mf\u001b[39m\u001b[39m\"\u001b[39m\u001b[39m{\u001b[39;00mplaces\u001b[39m}\u001b[39;00m\u001b[39m - \u001b[39m\u001b[39m{\u001b[39;00melements[places\u001b[39m-\u001b[39m\u001b[39m1\u001b[39m]\u001b[39m}\u001b[39;00m\u001b[39m\"\u001b[39m)\n",
      "\u001b[1;31mIndexError\u001b[0m: list index out of range"
     ]
    }
   ],
   "source": [
    "# [ ] # the list, elements_60, contains the names of the first 60 elements in atomic number order\n",
    "# [ ] print the odd number elements \"1 - Hydrogen, 3 - Lithium,..\" in the list with the atomic number elements_60\n",
    "elements_60 = ['Hydrogen', 'Helium', 'Lithium', 'Beryllium', 'Boron', 'Carbon', 'Nitrogen', \\\n",
    " 'Oxygen', 'Fluorine', 'Neon', 'Sodium', 'Magnesium', 'Aluminum', 'Silicon', \\\n",
    " 'Phosphorus', 'Sulfur', 'Chlorine', 'Argon', 'Potassium', 'Calcium', 'Hydrogen', \\\n",
    " 'Helium', 'Lithium', 'Beryllium', 'Boron', 'Carbon', 'Nitrogen', 'Oxygen', 'Fluorine', \\\n",
    " 'Neon', 'Sodium', 'Magnesium', 'Aluminum', 'Silicon', 'Phosphorus', 'Sulfur', 'Chlorine', \\\n",
    " 'Argon', 'Potassium', 'Calcium', 'Scandium', 'Titanium', 'Vanadium', 'Chromium', 'Manganese', \\\n",
    " 'Iron', 'Cobalt', 'Nickel', 'Copper', 'Zinc', 'Gallium', 'Germanium', 'Arsenic', 'Selenium', \\\n",
    " 'Bromine', 'Krypton', 'Rubidium', 'Strontium', 'Yttrium', 'Zirconium']\n",
    "\n",
    "for places in range(1,25,2):\n",
    "    print(f\"{places} - {elements[places-1]}\")"
   ]
  },
  {
   "cell_type": "code",
   "execution_count": null,
   "metadata": {},
   "outputs": [],
   "source": []
  },
  {
   "cell_type": "markdown",
   "metadata": {},
   "source": [
    "# &nbsp;\n",
    "<font size=\"6\" color=\"#B24C00\"  face=\"verdana\"> <B>Task 4</B></font>\n",
    "## combine lists with `+` and `.extend()`"
   ]
  },
  {
   "cell_type": "code",
   "execution_count": 44,
   "metadata": {},
   "outputs": [
    {
     "name": "stdout",
     "output_type": "stream",
     "text": [
      "numbers_1: [20, 21, 22, 23, 24, 25, 26, 27, 28, 29]\n",
      "numbers_2 [30, 32, 34, 36, 38, 40, 42, 44, 46, 48]\n",
      "[20, 21, 22, 23, 24, 25, 26, 27, 28, 29, 30, 32, 34, 36, 38, 40, 42, 44, 46, 48]\n"
     ]
    }
   ],
   "source": [
    "# [ ] print the combined lists (numbers_1 & numbers_2) using \"+\" operator\n",
    "numbers_1 = [20, 21, 22, 23, 24, 25, 26, 27, 28, 29]\n",
    "\n",
    "# pythonic casting of a range into a list\n",
    "numbers_2 = list(range(30,50,2))\n",
    "\n",
    "print(\"numbers_1:\",numbers_1)\n",
    "print(\"numbers_2\",numbers_2)\n",
    "\n",
    "all_num = numbers_1+numbers_2\n",
    "print(all_num)"
   ]
  },
  {
   "cell_type": "code",
   "execution_count": 45,
   "metadata": {},
   "outputs": [
    {
     "name": "stdout",
     "output_type": "stream",
     "text": [
      "1st Row: ['Hydrogen', 'Helium']\n",
      "2nd Row: ['Lithium', 'Beryllium', 'Boron', 'Carbon', 'Nitrogen', 'Oxygen', 'Fluorine', 'Neon']\n",
      "['Hydrogen', 'Helium', 'Lithium', 'Beryllium', 'Boron', 'Carbon', 'Nitrogen', 'Oxygen', 'Fluorine', 'Neon']\n"
     ]
    }
   ],
   "source": [
    "# [ ] print the combined element lists (first_row & second_row) using \".extend()\" method\n",
    "first_row = ['Hydrogen', 'Helium']\n",
    "second_row = ['Lithium', 'Beryllium', 'Boron', 'Carbon', 'Nitrogen', 'Oxygen', 'Fluorine', 'Neon']\n",
    "\n",
    "print(\"1st Row:\", first_row)\n",
    "print(\"2nd Row:\", second_row)\n",
    "\n",
    "first_row.extend(second_row)\n",
    "print(first_row)"
   ]
  },
  {
   "cell_type": "markdown",
   "metadata": {},
   "source": [
    "## Project: Combine 3 element rows\n",
    "Choose to use **\"+\" or \".extend()\" **to build output similar to   \n",
    "\n",
    "```\n",
    "The 1st three rows of the Period Table of Elements contain:\n",
    "['Hydrogen', 'Helium', 'Lithium', 'Beryllium', 'Boron', 'Carbon', 'Nitrogen', 'Oxygen', 'Fluorine', 'Neon', 'Sodium', 'Magnesium', 'Aluminum', 'Silicon', 'Phosphorus', 'Sulfur', 'Chlorine', 'Argon']\n",
    "\n",
    "The row breakdown is\n",
    "Row 1: Hydrogen, Helium\n",
    "Row 2: Lithium, Beryllium, Boron, Carbon, Nitrogen, Oxygen, Fluorine, Neon\n",
    "Row 3: Sodium, Magnesium, Aluminum, Silicon, Phosphorus, Sulfur, Chlorine, Argon\n",
    "```"
   ]
  },
  {
   "cell_type": "code",
   "execution_count": null,
   "metadata": {},
   "outputs": [],
   "source": [
    "# [ ] create the program: combined 3 element rows \n",
    "\n",
    "elem_1 = ['Hydrogen', 'Helium'] \n",
    "elem_2 = ['Lithium', 'Beryllium', 'Boron', 'Carbon', 'Nitrogen', 'Oxygen', 'Fluorine', 'Neon']\n",
    "elem_3 = ['Sodium', 'Magnesium', 'Aluminum', 'Silicon', 'Phosphorus', 'Sulfur', 'Chlorine', 'Argon']\n",
    "\n"
   ]
  },
  {
   "cell_type": "code",
   "execution_count": null,
   "metadata": {},
   "outputs": [],
   "source": [
    "# [ ] .extend() jack_jill with \"next_line\" string - print the result\n",
    "jack_jill = ['Jack', 'and', 'Jill', 'went', 'up', 'the', 'hill']\n",
    "next_line = ['To', 'fetch', 'a', 'pail', 'of', 'water']\n",
    "\n"
   ]
  },
  {
   "cell_type": "markdown",
   "metadata": {},
   "source": [
    "# &nbsp;\n",
    "<font size=\"6\" color=\"#B24C00\"  face=\"verdana\"> <B>Task 5</B></font>\n",
    "## .reverse() : reverse a list in place"
   ]
  },
  {
   "cell_type": "code",
   "execution_count": null,
   "metadata": {},
   "outputs": [],
   "source": [
    "# [ ] use .reverse() to print elements starting with \"Calcium\", \"Chlorine\",... in reverse order\n",
    "elements = ['Hydrogen', 'Helium', 'Lithium', 'Beryllium', 'Boron', 'Carbon', 'Nitrogen', 'Oxygen', 'Fluorine', \\\n",
    " 'Neon', 'Sodium', 'Magnesium', 'Aluminum', 'Silicon', 'Phosphorus', 'Sulfur', 'Chlorine', 'Argon', \\\n",
    " 'Potassium', 'Calcium']\n",
    "\n"
   ]
  },
  {
   "cell_type": "code",
   "execution_count": null,
   "metadata": {},
   "outputs": [],
   "source": [
    "# [ ] reverse order of the list... Then print only words that are 8 characters or longer from the now reversed order\n",
    "spell_list = [\"Tuesday\", \"Wednesday\", \"February\", \"November\", \"Annual\", \"Calendar\", \"Solstice\"]\n",
    "\n",
    "\n"
   ]
  },
  {
   "cell_type": "markdown",
   "metadata": {},
   "source": [
    "# &nbsp;\n",
    "<font size=\"6\" color=\"#B24C00\"  face=\"verdana\"> <B>Task 6</B></font>\n",
    "## .sort() and sorted()"
   ]
  },
  {
   "cell_type": "code",
   "execution_count": null,
   "metadata": {},
   "outputs": [],
   "source": [
    "# [ ] sort the list element, so names are in alphabetical order and print elements\n",
    "elements = ['Hydrogen', 'Helium', 'Lithium', 'Beryllium', 'Boron', 'Carbon', 'Nitrogen', 'Oxygen', 'Fluorine', \\\n",
    " 'Neon', 'Sodium', 'Magnesium', 'Aluminum', 'Silicon', 'Phosphorus', 'Sulfur', 'Chlorine', 'Argon', \\\n",
    " 'Potassium', 'Calcium']\n",
    "\n"
   ]
  },
  {
   "cell_type": "code",
   "execution_count": null,
   "metadata": {},
   "outputs": [],
   "source": [
    "# [ ] print the list, numbers, sorted and then below print the original numbers list \n",
    "numbers = [2,2,2,1,2,1,3,3,1,2,2,2,2,1,3]\n",
    "\n"
   ]
  },
  {
   "cell_type": "markdown",
   "metadata": {},
   "source": [
    "# &nbsp;\n",
    "<font size=\"6\" color=\"#B24C00\"  face=\"verdana\"> <B>Task 7</B></font>\n",
    "## Converting a string to a list with `.split()`"
   ]
  },
  {
   "cell_type": "code",
   "execution_count": null,
   "metadata": {},
   "outputs": [],
   "source": [
    "# [ ] split the string, daily_fact, into a list of word strings: fact_words\n",
    "# [ ] print each string in fact_words in upper case on it's own line\n",
    "daily_fact = \"Did you know that there are 1.4 billion students in the world?\"\n",
    "\n"
   ]
  },
  {
   "cell_type": "code",
   "execution_count": null,
   "metadata": {},
   "outputs": [],
   "source": [
    "# [ ] convert the string, code_tip, into a list made from splitting on the letter \"o\"\n",
    "\n",
    "\n"
   ]
  },
  {
   "cell_type": "code",
   "execution_count": null,
   "metadata": {},
   "outputs": [],
   "source": [
    "# [ ] split poem on \"b\" to create a list: poem_words\n",
    "# [ ] print poem_words by iterating the list\n",
    "poem = \"The bright brain, has bran!\"\n",
    "\n"
   ]
  },
  {
   "cell_type": "markdown",
   "metadata": {},
   "source": [
    "# &nbsp;\n",
    "<font size=\"6\" color=\"#B24C00\"  face=\"verdana\"> <B>Task 8</B></font>\n",
    "## `.join()`\n",
    "### build a string from a list"
   ]
  },
  {
   "cell_type": "code",
   "execution_count": null,
   "metadata": {},
   "outputs": [],
   "source": [
    "# [ ] print a comma separated string output from the list of Halogen elements using \".join()\"\n",
    "halogens = ['Chlorine', 'Florine', 'Bromine', 'Iodine']\n",
    "\n"
   ]
  },
  {
   "cell_type": "code",
   "execution_count": null,
   "metadata": {},
   "outputs": [],
   "source": [
    "# [ ] split the sentence, code_tip, into a words list\n",
    "# [ ] print the joined words in the list with no spaces in-between\n",
    "# [ ] Bonus: capitalize each word in the list before .join()\n",
    "code_tip =\"Read code aloud or explain the code step by step to a peer\"\n",
    "\n"
   ]
  },
  {
   "cell_type": "markdown",
   "metadata": {},
   "source": [
    "# &nbsp;\n",
    "<font size=\"6\" color=\"#B24C00\"  face=\"verdana\"> <B>Task 8</B></font>  \n",
    "## `list(string)` & `print(\"hello\",end=' ')`\n",
    "\n",
    "- **Cast a string to a list** \n",
    "- **print to the same line**   "
   ]
  },
  {
   "cell_type": "code",
   "execution_count": null,
   "metadata": {},
   "outputs": [],
   "source": [
    "# [ ] cast the long_word into individual letters list \n",
    "# [ ] print each letter on a line\n",
    "long_word = 'decelerating'\n",
    "\n",
    "letters = list(long_word)\n",
    "\n"
   ]
  },
  {
   "cell_type": "code",
   "execution_count": null,
   "metadata": {},
   "outputs": [],
   "source": [
    "# [ ] use use end= in print to output each string in questions with a \"?\" and on new lines\n",
    "questions = [\"What's the closest planet to the Sun\", \"How deep do Dolphins swim\", \"What time is it\"]\n",
    "\n",
    "\n"
   ]
  },
  {
   "cell_type": "code",
   "execution_count": null,
   "metadata": {},
   "outputs": [],
   "source": [
    "# [ ] print each item in foot bones \n",
    "#    - capitalized, both words if two word name\n",
    "#    - separated by a comma and space\n",
    "#    - and keeping on a single print line\n",
    "foot_bones = [\"calcaneus\", \"talus\", \"cuboid\", \"navicular\", \"lateral cuneiform\", \n",
    "            \"intermediate cuneiform\", \"medial cuneiform\"]\n",
    "\n"
   ]
  },
  {
   "cell_type": "markdown",
   "metadata": {},
   "source": [
    "[Terms of use](http://go.microsoft.com/fwlink/?LinkID=206977) &nbsp; [Privacy & cookies](https://go.microsoft.com/fwlink/?LinkId=521839) &nbsp; © 2017 Microsoft"
   ]
  }
 ],
 "metadata": {
  "anaconda-cloud": {},
  "kernelspec": {
   "display_name": "Python 3",
   "language": "python",
   "name": "python3"
  },
  "language_info": {
   "codemirror_mode": {
    "name": "ipython",
    "version": 3
   },
   "file_extension": ".py",
   "mimetype": "text/x-python",
   "name": "python",
   "nbconvert_exporter": "python",
   "pygments_lexer": "ipython3",
   "version": "3.9.1"
  }
 },
 "nbformat": 4,
 "nbformat_minor": 1
}
