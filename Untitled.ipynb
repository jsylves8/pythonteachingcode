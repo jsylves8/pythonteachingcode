{
 "cells": [
  {
   "cell_type": "code",
   "execution_count": 1,
   "metadata": {},
   "outputs": [
    {
     "name": "stdout",
     "output_type": "stream",
     "text": [
      "Please enter a number: 6\n",
      "Your number is 6.\n",
      "Please enter a number for factorial calculation: 6\n",
      "720\n",
      "Please enter a number for factorial calculation: 6\n",
      "The factorial total is 720.\n"
     ]
    }
   ],
   "source": [
    "def loop_enter():\n",
    "    while True:\n",
    "\n",
    "        input_user = input(\"Please enter a number: \")\n",
    "\n",
    "        if input_user.isdigit():\n",
    "\n",
    "            print(f\"Your number is {input_user}.\")\n",
    "            break\n",
    "\n",
    "        elif input_user.isalpha():\n",
    "\n",
    "            print(f\"This is a letter, please enter a number!\")\n",
    "\n",
    "        else:\n",
    "            print(f\"Please enter a number!\")\n",
    "\n",
    "loop_enter()\n",
    "\n",
    "def for_fact():\n",
    "\n",
    "    num = input(\"Please enter a number for factorial calculation: \")\n",
    "\n",
    "    if num.isdigit():\n",
    "\n",
    "        num = int(num)\n",
    "\n",
    "        fact = 1\n",
    "\n",
    "        for i in range(1, num + 1):\n",
    "\n",
    "            fact = fact * i\n",
    "\n",
    "        return fact\n",
    "\n",
    "    elif num.isalpha():\n",
    "        print(\"This is a letter, please enter a number. Run program again!\")\n",
    "    else:\n",
    "        print(\"Please enter a number. Run the program again!\")\n",
    "\n",
    "print(for_fact())\n",
    "\n",
    "\n",
    "def while_fact():\n",
    "\n",
    "    num = 1\n",
    "\n",
    "    while True:\n",
    "\n",
    "        num_fact = input(\"Please enter a number for factorial calculation: \")\n",
    "\n",
    "        if num_fact.isdigit():\n",
    "\n",
    "            while int(num_fact) >= 1:\n",
    "\n",
    "                num = num * int(num_fact)\n",
    "\n",
    "                num_fact = int(num_fact) - 1\n",
    "\n",
    "            return(num)\n",
    "        \n",
    "        \n",
    "\n",
    "        elif num_fact.isalpha():\n",
    "\n",
    "            print(f\"Please enter a number, not a letter!\")\n",
    "            \n",
    "        else:\n",
    "\n",
    "            print(f\"Please enter a number!\")\n",
    "            \n",
    "        \n",
    "\n",
    "print(f\"The factorial total is {while_fact()}.\")\n",
    "    "
   ]
  },
  {
   "cell_type": "code",
   "execution_count": null,
   "metadata": {},
   "outputs": [],
   "source": []
  }
 ],
 "metadata": {
  "kernelspec": {
   "display_name": "Python 3",
   "language": "python",
   "name": "python3"
  },
  "language_info": {
   "codemirror_mode": {
    "name": "ipython",
    "version": 3
   },
   "file_extension": ".py",
   "mimetype": "text/x-python",
   "name": "python",
   "nbconvert_exporter": "python",
   "pygments_lexer": "ipython3",
   "version": "3.8.5"
  }
 },
 "nbformat": 4,
 "nbformat_minor": 4
}
